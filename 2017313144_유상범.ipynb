{
  "nbformat": 4,
  "nbformat_minor": 0,
  "metadata": {
    "colab": {
      "provenance": []
    },
    "kernelspec": {
      "name": "python3",
      "display_name": "Python 3"
    },
    "language_info": {
      "name": "python"
    }
  },
  "cells": [
    {
      "cell_type": "markdown",
      "source": [
        "## Task\n",
        "- Complete **isHappy** function following the description below\n",
        "\n",
        "### Happy Number\n",
        "Write an algorithm to determine if a number **n** is happy.\n",
        "\n",
        "A **happy number** is a number defined by the following process:\n",
        "\n",
        "* Starting with any positive integer, replace the number by the sum of the squares of its digits.\n",
        "* Repeat the process until the number equals 1 (where it will stay), or it **loops endlessly in a cycle** which does not include 1.\n",
        "* Those numbers for which this process **ends in 1** are happy.\n",
        "\n",
        "Return **true** if n is a happy number, and **false** if not.\n",
        "\n",
        "Constraints:\n",
        "1 <= n <= $2^{31}$ - 1"
      ],
      "metadata": {
        "id": "TV3Socqg8BVl"
      }
    },
    {
      "cell_type": "code",
      "execution_count": 21,
      "metadata": {
        "id": "5FcxitVf5kdQ",
        "colab": {
          "base_uri": "https://localhost:8080/"
        },
        "outputId": "20ce958f-7c40-4039-8199-65c926514446"
      },
      "outputs": [
        {
          "output_type": "stream",
          "name": "stdout",
          "text": [
            "digits :  [81, 1] result :  82\n",
            "digits :  [4, 64] result :  68\n",
            "digits :  [64, 36] result :  100\n",
            "digits :  [0, 0, 1] result :  1\n",
            "result : True\n",
            "digits :  [4, 0] result :  4\n",
            "digits :  [16, 0] result :  16\n",
            "digits :  [36, 1] result :  37\n",
            "digits :  [49, 9] result :  58\n",
            "digits :  [64, 25] result :  89\n",
            "digits :  [81, 64] result :  145\n",
            "digits :  [25, 16, 1] result :  42\n",
            "digits :  [4, 16] result :  20\n",
            "digits :  [0, 4] result :  4\n",
            "result : False\n",
            "digits :  [49, 16, 36, 9, 64, 16, 49, 16, 1, 4] result :  260\n",
            "digits :  [0, 36, 4] result :  40\n",
            "digits :  [0, 16] result :  16\n",
            "digits :  [36, 1] result :  37\n",
            "digits :  [49, 9] result :  58\n",
            "digits :  [64, 25] result :  89\n",
            "digits :  [81, 64] result :  145\n",
            "digits :  [25, 16, 1] result :  42\n",
            "digits :  [4, 16] result :  20\n",
            "digits :  [0, 4] result :  4\n",
            "digits :  [16, 0] result :  16\n",
            "result : False\n",
            "digits :  [36, 16, 36, 9, 64, 16, 49, 16, 1, 4] result :  247\n",
            "digits :  [49, 16, 4] result :  69\n",
            "digits :  [81, 36] result :  117\n",
            "digits :  [49, 1, 1] result :  51\n",
            "digits :  [1, 25] result :  26\n",
            "digits :  [36, 4] result :  40\n",
            "digits :  [0, 16] result :  16\n",
            "digits :  [36, 1] result :  37\n",
            "digits :  [49, 9] result :  58\n",
            "digits :  [64, 25] result :  89\n",
            "digits :  [81, 64] result :  145\n",
            "digits :  [25, 16, 1] result :  42\n",
            "digits :  [4, 16] result :  20\n",
            "digits :  [0, 4] result :  4\n",
            "digits :  [16, 0] result :  16\n",
            "result : False\n"
          ]
        },
        {
          "output_type": "execute_result",
          "data": {
            "text/plain": [
              "False"
            ]
          },
          "metadata": {},
          "execution_count": 21
        }
      ],
      "source": [
        "def isHappy(n):\n",
        "  trackingList = [n]\n",
        "  currentNumber = n\n",
        "  digits = []\n",
        "\n",
        "  while(True):\n",
        "    digits = []\n",
        "    digits.append((currentNumber%10)**2)\n",
        "\n",
        "    while(True):\n",
        "      currentNumber = (currentNumber - (currentNumber%10))//10\n",
        "      digits.append((currentNumber%10)**2)\n",
        "      if currentNumber < 10:\n",
        "        break\n",
        "\n",
        "    currentNumber = sum(digits)\n",
        "    print(\"digits : \", digits, \"result : \", currentNumber)\n",
        "\n",
        "    if currentNumber in trackingList:\n",
        "      print(\"result : False\")\n",
        "      return False\n",
        "    if currentNumber == 1:\n",
        "      print(\"result : True\")\n",
        "      return True\n",
        "\n",
        "    trackingList.append(currentNumber)\n",
        "\n",
        "isHappy(19)\n",
        "isHappy(2)\n",
        "isHappy(2**31-1)\n",
        "isHappy(2**31-2)"
      ]
    },
    {
      "cell_type": "markdown",
      "source": [
        "**Testcase 1.**\n",
        "\n",
        "**Input**: 19\n",
        "\n",
        "**Output**: True\n",
        "\n",
        "**Explanation**:\n",
        "\n",
        "$1^2 + 9^2 = 82$\n",
        "\n",
        "$8^2 + 2^2 = 68$\n",
        "\n",
        "$6^2 + 8^2 = 100$\n",
        "\n",
        "$1^2 + 0^2 + 0^2 = 1$"
      ],
      "metadata": {
        "id": "eRrh24Ognrqf"
      }
    },
    {
      "cell_type": "markdown",
      "source": [
        "**Testcase 2.**\n",
        "\n",
        "**Input**: 2\n",
        "\n",
        "**Output**: False"
      ],
      "metadata": {
        "id": "dE7YMY8qoPoj"
      }
    }
  ]
}